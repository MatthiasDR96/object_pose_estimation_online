{
 "cells": [
  {
   "cell_type": "code",
   "execution_count": 1,
   "metadata": {
    "collapsed": false
   },
   "outputs": [
   ],
   "source": [
    "from Classes.CameraCalibration import *"
   ]
  },
  {
   "cell_type": "code",
   "execution_count": 2,
   "metadata": {
    "collapsed": false
   },
   "outputs": [
   ],
   "source": [
    "imgpoints = []\n",
    "objpoints = []"
   ]
  },
  {
   "cell_type": "code",
   "execution_count": 3,
   "metadata": {
    "collapsed": false
   },
   "outputs": [
   ],
   "source": [
    "camera_calibration_images_file = './data/camera_calibration_images/CC_image_original_*.jpg'"
   ]
  },
  {
   "cell_type": "code",
   "execution_count": 4,
   "metadata": {
    "collapsed": false,
    "scrolled": true
   },
   "outputs": [
   ],
   "source": [
    "images = get_image_path_names(camera_calibration_images_file)"
   ]
  },
  {
   "cell_type": "code",
   "execution_count": 5,
   "metadata": {
    "collapsed": false
   },
   "outputs": [
   ],
   "source": [
    "objp = get_object_points()"
   ]
  },
  {
   "cell_type": "code",
   "execution_count": 0,
   "metadata": {
    "collapsed": false
   },
   "outputs": [
   ],
   "source": [
    "# For all images\n",
    "for image in images:\n",
    "\n",
    "    # Read image from file\n",
    "    frame = read_image(image)\n",
    "\n",
    "    # Convert RGB image to grayscale\n",
    "    gray = image_to_grayscale(frame)\n",
    "\n",
    "    # Find the chess board corners in the image\n",
    "    corners = find_corners(gray)\n",
    "\n",
    "    # Add (append) object points to objpoints list\n",
    "    objpoints.append(objp)\n",
    "\n",
    "    # Add (append) pixel coordinates to imgpoints list\n",
    "    imgpoints.append(corners)"
   ]
  },
  {
   "cell_type": "code",
   "execution_count": 0,
   "metadata": {
    "collapsed": false
   },
   "outputs": [
   ],
   "source": [
    "# Calibrate camera and obtain intrinsic camera matrix using the objpoints list and the imgpoints list\n",
    "intrinsic_camera_matrix = calibrate_camera(objpoints, imgpoints)"
   ]
  },
  {
   "cell_type": "code",
   "execution_count": 0,
   "metadata": {
    "collapsed": false
   },
   "outputs": [
   ],
   "source": [
    "# Calculate reprojection error\n",
    "reprojection_error = calculate_reprojection_error(intrinsic_camera_matrix, objpoints, imgpoints)"
   ]
  },
  {
   "cell_type": "code",
   "execution_count": 0,
   "metadata": {
    "collapsed": false
   },
   "outputs": [
   ],
   "source": [
    "print(\"\\nTotal reprojection error: %f\" % (reprojection_error / float(len(objpoints))))\n",
    "print('\\nCamera calibration finished')"
   ]
  }
 ],
 "metadata": {
  "kernelspec": {
   "display_name": "Python 3 (system-wide)",
   "language": "python",
   "metadata": {
    "cocalc": {
     "description": "Python 3 programming language",
     "priority": 100,
     "url": "https://www.python.org/"
    }
   },
   "name": "python3"
  },
  "language_info": {
   "codemirror_mode": {
    "name": "ipython",
    "version": 3
   },
   "file_extension": ".py",
   "mimetype": "text/x-python",
   "name": "python",
   "nbconvert_exporter": "python",
   "pygments_lexer": "ipython3",
   "version": "3.8.5"
  }
 },
 "nbformat": 4,
 "nbformat_minor": 4
}